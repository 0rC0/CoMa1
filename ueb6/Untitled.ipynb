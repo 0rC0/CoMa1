{
 "cells": [
  {
   "cell_type": "code",
   "execution_count": 1,
   "metadata": {},
   "outputs": [],
   "source": [
    "% 3.a\n",
    "g1 = @(x) sin(x);\n",
    "g2 = @(x) x^2;"
   ]
  },
  {
   "cell_type": "code",
   "execution_count": 8,
   "metadata": {},
   "outputs": [
    {
     "name": "stdout",
     "output_type": "stream",
     "text": [
      "\n",
      "a =\n",
      "\n",
      "    1.5708\n",
      "\n",
      "\n",
      "ans =\n",
      "\n",
      "     1\n",
      "\n"
     ]
    }
   ],
   "source": [
    "a = pi/2\n",
    "g2(g1(a))"
   ]
  },
  {
   "cell_type": "code",
   "execution_count": 7,
   "metadata": {},
   "outputs": [
    {
     "name": "stdout",
     "output_type": "stream",
     "text": [
      "\n",
      "ans =\n",
      "\n",
      "     1\n",
      "\n"
     ]
    }
   ],
   "source": [
    "sin(pi/2)"
   ]
  },
  {
   "cell_type": "code",
   "execution_count": 16,
   "metadata": {},
   "outputs": [
    {
     "name": "stdout",
     "output_type": "stream",
     "text": [
      "\n",
      "ans =\n",
      "\n",
      "     1\n",
      "\n"
     ]
    }
   ],
   "source": [
    "%x = pi/2\n",
    "concat(@(b) b^2, @(b) sin(b), pi/2)"
   ]
  },
  {
   "cell_type": "code",
   "execution_count": 18,
   "metadata": {},
   "outputs": [
    {
     "name": "stdout",
     "output_type": "stream",
     "text": [
      "\n",
      "k =\n",
      "\n",
      "     0     1     2     3     4     5     6     7     8     9    10    11    12\n",
      "\n"
     ]
    }
   ],
   "source": [
    "k = [0:12]"
   ]
  },
  {
   "cell_type": "code",
   "execution_count": 24,
   "metadata": {},
   "outputs": [
    {
     "name": "stdout",
     "output_type": "stream",
     "text": [
      "\n",
      "f =\n",
      "\n",
      "  function_handle with value:\n",
      "\n",
      "    @(x)(-1+10.^x)\n",
      "\n"
     ]
    }
   ],
   "source": [
    "f = @(x) (-1 + 10.^x)"
   ]
  },
  {
   "cell_type": "code",
   "execution_count": 31,
   "metadata": {},
   "outputs": [
    {
     "name": "stdout",
     "output_type": "stream",
     "text": [
      "\n",
      "ans =\n",
      "\n",
      "   1.0e+11 *\n",
      "\n",
      "  Columns 1 through 3\n",
      "\n",
      "                   0   0.000000000090000   0.000000000990000\n",
      "\n",
      "  Columns 4 through 6\n",
      "\n",
      "   0.000000009990000   0.000000099990000   0.000000999990000\n",
      "\n",
      "  Columns 7 through 9\n",
      "\n",
      "   0.000009999990000   0.000099999990000   0.000999999990000\n",
      "\n",
      "  Columns 10 through 12\n",
      "\n",
      "   0.009999999990000   0.099999999990000   0.999999999990000\n",
      "\n",
      "  Column 13\n",
      "\n",
      "   9.999999999990001\n",
      "\n"
     ]
    }
   ],
   "source": [
    "format long\n",
    "f(k)"
   ]
  },
  {
   "cell_type": "code",
   "execution_count": 33,
   "metadata": {},
   "outputs": [
    {
     "name": "stdout",
     "output_type": "stream",
     "text": [
      "\n",
      "a =\n",
      "\n",
      "  Columns 1 through 3\n",
      "\n",
      "   1.000000000000000   1.000000000000000                   0\n",
      "\n",
      "  Column 4\n",
      "\n",
      "  -0.000000000000000\n",
      "\n"
     ]
    }
   ],
   "source": [
    "a = generateData(1)"
   ]
  },
  {
   "cell_type": "code",
   "execution_count": 37,
   "metadata": {},
   "outputs": [
    {
     "name": "stdout",
     "output_type": "stream",
     "text": [
      "\n",
      "a =\n",
      "\n",
      "     1     2     3     4\n",
      "\n"
     ]
    }
   ],
   "source": [
    "a =  [1, 2, 3, 4]"
   ]
  },
  {
   "cell_type": "code",
   "execution_count": 45,
   "metadata": {},
   "outputs": [
    {
     "name": "stdout",
     "output_type": "stream",
     "text": [
      "\n",
      "b =\n",
      "\n",
      "     1     1     2     3     4\n",
      "\n"
     ]
    }
   ],
   "source": [
    "b = cat(2,1,a)"
   ]
  },
  {
   "cell_type": "code",
   "execution_count": 46,
   "metadata": {},
   "outputs": [
    {
     "name": "stdout",
     "output_type": "stream",
     "text": [
      "\n",
      "c =\n",
      "\n",
      "     []\n",
      "\n",
      "\n",
      "c =\n",
      "\n",
      "     1     1     2     3     4\n",
      "\n"
     ]
    }
   ],
   "source": [
    "c=[]\n",
    "c=cat(1,b,c)"
   ]
  },
  {
   "cell_type": "code",
   "execution_count": null,
   "metadata": {},
   "outputs": [],
   "source": []
  }
 ],
 "metadata": {
  "kernelspec": {
   "display_name": "Matlab",
   "language": "matlab",
   "name": "matlab"
  },
  "language_info": {
   "codemirror_mode": "octave",
   "file_extension": ".m",
   "help_links": [
    {
     "text": "MetaKernel Magics",
     "url": "https://github.com/calysto/metakernel/blob/master/metakernel/magics/README.md"
    }
   ],
   "mimetype": "text/x-octave",
   "name": "matlab",
   "version": "0.15.0"
  }
 },
 "nbformat": 4,
 "nbformat_minor": 2
}
