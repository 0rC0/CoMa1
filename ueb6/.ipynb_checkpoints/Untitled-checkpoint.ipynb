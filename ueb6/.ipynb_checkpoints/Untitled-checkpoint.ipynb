{
 "cells": [
  {
   "cell_type": "code",
   "execution_count": 1,
   "metadata": {},
   "outputs": [],
   "source": [
    "% 3.a\n",
    "g1 = @(x) sin(x);\n",
    "g2 = @(x) x^2;"
   ]
  },
  {
   "cell_type": "code",
   "execution_count": 8,
   "metadata": {},
   "outputs": [
    {
     "name": "stdout",
     "output_type": "stream",
     "text": [
      "\n",
      "a =\n",
      "\n",
      "    1.5708\n",
      "\n",
      "\n",
      "ans =\n",
      "\n",
      "     1\n",
      "\n"
     ]
    }
   ],
   "source": [
    "a = pi/2\n",
    "g2(g1(a))"
   ]
  },
  {
   "cell_type": "code",
   "execution_count": 7,
   "metadata": {},
   "outputs": [
    {
     "name": "stdout",
     "output_type": "stream",
     "text": [
      "\n",
      "ans =\n",
      "\n",
      "     1\n",
      "\n"
     ]
    }
   ],
   "source": [
    "sin(pi/2)"
   ]
  },
  {
   "cell_type": "code",
   "execution_count": 16,
   "metadata": {},
   "outputs": [
    {
     "name": "stdout",
     "output_type": "stream",
     "text": [
      "\n",
      "ans =\n",
      "\n",
      "     1\n",
      "\n"
     ]
    }
   ],
   "source": [
    "%x = pi/2\n",
    "concat(@(b) b^2, @(b) sin(b), pi/2)"
   ]
  },
  {
   "cell_type": "code",
   "execution_count": 18,
   "metadata": {},
   "outputs": [
    {
     "name": "stdout",
     "output_type": "stream",
     "text": [
      "\n",
      "k =\n",
      "\n",
      "     0     1     2     3     4     5     6     7     8     9    10    11    12\n",
      "\n"
     ]
    }
   ],
   "source": [
    "k = [0:12]"
   ]
  },
  {
   "cell_type": "code",
   "execution_count": 24,
   "metadata": {},
   "outputs": [
    {
     "name": "stdout",
     "output_type": "stream",
     "text": [
      "\n",
      "f =\n",
      "\n",
      "  function_handle with value:\n",
      "\n",
      "    @(x)(-1+10.^x)\n",
      "\n"
     ]
    }
   ],
   "source": [
    "f = @(x) (-1 + 10.^x)"
   ]
  },
  {
   "cell_type": "code",
   "execution_count": 31,
   "metadata": {},
   "outputs": [
    {
     "name": "stdout",
     "output_type": "stream",
     "text": [
      "\n",
      "ans =\n",
      "\n",
      "   1.0e+11 *\n",
      "\n",
      "  Columns 1 through 3\n",
      "\n",
      "                   0   0.000000000090000   0.000000000990000\n",
      "\n",
      "  Columns 4 through 6\n",
      "\n",
      "   0.000000009990000   0.000000099990000   0.000000999990000\n",
      "\n",
      "  Columns 7 through 9\n",
      "\n",
      "   0.000009999990000   0.000099999990000   0.000999999990000\n",
      "\n",
      "  Columns 10 through 12\n",
      "\n",
      "   0.009999999990000   0.099999999990000   0.999999999990000\n",
      "\n",
      "  Column 13\n",
      "\n",
      "   9.999999999990001\n",
      "\n"
     ]
    }
   ],
   "source": [
    "format long\n",
    "f(k)"
   ]
  },
  {
   "cell_type": "code",
   "execution_count": 33,
   "metadata": {},
   "outputs": [
    {
     "name": "stdout",
     "output_type": "stream",
     "text": [
      "\n",
      "a =\n",
      "\n",
      "  Columns 1 through 3\n",
      "\n",
      "   1.000000000000000   1.000000000000000                   0\n",
      "\n",
      "  Column 4\n",
      "\n",
      "  -0.000000000000000\n",
      "\n"
     ]
    }
   ],
   "source": [
    "a = generateData(1)"
   ]
  },
  {
   "cell_type": "code",
   "execution_count": 37,
   "metadata": {},
   "outputs": [
    {
     "name": "stdout",
     "output_type": "stream",
     "text": [
      "\n",
      "a =\n",
      "\n",
      "     1     2     3     4\n",
      "\n"
     ]
    }
   ],
   "source": [
    "a =  [1, 2, 3, 4]"
   ]
  },
  {
   "cell_type": "code",
   "execution_count": 45,
   "metadata": {},
   "outputs": [
    {
     "name": "stdout",
     "output_type": "stream",
     "text": [
      "\n",
      "b =\n",
      "\n",
      "     1     1     2     3     4\n",
      "\n"
     ]
    }
   ],
   "source": [
    "b = cat(2,1,a)"
   ]
  },
  {
   "cell_type": "code",
   "execution_count": 46,
   "metadata": {
    "scrolled": true
   },
   "outputs": [
    {
     "name": "stdout",
     "output_type": "stream",
     "text": [
      "\n",
      "c =\n",
      "\n",
      "     []\n",
      "\n",
      "\n",
      "c =\n",
      "\n",
      "     1     1     2     3     4\n",
      "\n"
     ]
    }
   ],
   "source": [
    "c=[]\n",
    "c=cat(1,b,c)"
   ]
  },
  {
   "cell_type": "code",
   "execution_count": 7,
   "metadata": {},
   "outputs": [
    {
     "name": "stdout",
     "output_type": "stream",
     "text": [
      "\n",
      "k =\n",
      "\n",
      "     0     1     2     3     4     5     6     7     8     9    10    11    12\n",
      "\n",
      "\n",
      "f =\n",
      "\n",
      "  function_handle with value:\n",
      "\n",
      "    @(x)(-1+10.^x)\n",
      "\n",
      "\n",
      "ans = \n",
      "\n",
      "    k     val1    val2    err1            err2         \n",
      "    __    ____    ____    ____    _____________________\n",
      "\n",
      "    12    12      12        0                         0\n",
      "    11    11      11        0      1.61486985400023e-16\n",
      "    10    10      10        0                         0\n",
      "     9     9       9        0     -1.97372982155583e-16\n",
      "     8     8       8        0                         0\n",
      "     7     7       7        0     -1.26882631385732e-16\n",
      "     6     6       6        0     -1.48029736616688e-16\n",
      "     5     5       5        0      1.77635683940025e-16\n",
      "     4     4       4        0     -2.22044604925031e-16\n",
      "     3     3       3        0                         0\n",
      "     2     2       2        0      2.22044604925031e-16\n",
      "     1     1       1        0     -2.22044604925031e-16\n",
      "     0     0       0      NaN                       NaN\n",
      "\n"
     ]
    }
   ],
   "source": [
    "run"
   ]
  },
  {
   "cell_type": "code",
   "execution_count": null,
   "metadata": {},
   "outputs": [],
   "source": []
  }
 ],
 "metadata": {
  "kernelspec": {
   "display_name": "Matlab",
   "language": "matlab",
   "name": "matlab"
  },
  "language_info": {
   "codemirror_mode": "octave",
   "file_extension": ".m",
   "help_links": [
    {
     "text": "MetaKernel Magics",
     "url": "https://github.com/calysto/metakernel/blob/master/metakernel/magics/README.md"
    }
   ],
   "mimetype": "text/x-octave",
   "name": "matlab",
   "version": "0.15.0"
  }
 },
 "nbformat": 4,
 "nbformat_minor": 2
}
