{
 "cells": [
  {
   "cell_type": "code",
   "execution_count": 20,
   "metadata": {},
   "outputs": [],
   "source": [
    "a = 30;\n",
    "b = 24;"
   ]
  },
  {
   "cell_type": "code",
   "execution_count": null,
   "metadata": {},
   "outputs": [],
   "source": [
    "k = 0;\n",
    "k = k + 2"
   ]
  },
  {
   "cell_type": "code",
   "execution_count": null,
   "metadata": {},
   "outputs": [],
   "source": [
    "k = 0;\n",
    "if b == 0 ggT=a;\n",
    "else\n",
    "    for i = 1:b\n",
    "        k = k + 2;\n",
    "        if mod(a,i) == 0 & mod(b,i) == 0\n",
    "            c = i;\n",
    "        end\n",
    "    end\n",
    "end"
   ]
  },
  {
   "cell_type": "code",
   "execution_count": null,
   "metadata": {},
   "outputs": [],
   "source": [
    "[c,k]"
   ]
  },
  {
   "cell_type": "code",
   "execution_count": 1,
   "metadata": {},
   "outputs": [
    {
     "name": "stdout",
     "output_type": "stream",
     "text": [
      "\n",
      "c =\n",
      "\n",
      "     6\n",
      "\n",
      "\n",
      "k =\n",
      "\n",
      "    60\n",
      "\n"
     ]
    }
   ],
   "source": [
    "[c,k] = ggT_tumb(24,30)"
   ]
  },
  {
   "cell_type": "code",
   "execution_count": 3,
   "metadata": {},
   "outputs": [],
   "source": [
    "k = 0;\n",
    "while b > 0\n",
    "    k = k + 1;\n",
    "    r = mod(a,b);\n",
    "    a = b;\n",
    "    b = r;\n",
    "end\n",
    "c = a;"
   ]
  },
  {
   "cell_type": "code",
   "execution_count": 4,
   "metadata": {},
   "outputs": [
    {
     "name": "stdout",
     "output_type": "stream",
     "text": [
      "\n",
      "ans =\n",
      "\n",
      "     6     2\n",
      "\n"
     ]
    }
   ],
   "source": [
    "[c,k]"
   ]
  },
  {
   "cell_type": "code",
   "execution_count": 22,
   "metadata": {},
   "outputs": [
    {
     "name": "stdout",
     "output_type": "stream",
     "text": [
      "\n",
      "c =\n",
      "\n",
      "    24\n",
      "\n",
      "\n",
      "k =\n",
      "\n",
      "     1\n",
      "\n"
     ]
    }
   ],
   "source": [
    "[c,k] = ggT_euclid(a,b)"
   ]
  },
  {
   "cell_type": "code",
   "execution_count": 24,
   "metadata": {},
   "outputs": [
    {
     "name": "stdout",
     "output_type": "stream",
     "text": [
      "\n",
      "a =\n",
      "\n",
      "     2     0     0     0     0     0     0     0     0     0\n",
      "\n",
      "\n",
      "ans =\n",
      "\n",
      "     2\n",
      "\n"
     ]
    }
   ],
   "source": [
    "a = zeros(1,10);\n",
    "[c,a(1)] = ggT_euclid(30,24);\n",
    "a\n",
    "max(a)"
   ]
  },
  {
   "cell_type": "code",
   "execution_count": 38,
   "metadata": {},
   "outputs": [
    {
     "name": "stdout",
     "output_type": "stream",
     "text": [
      "\n",
      "ht = \n",
      "\n",
      "  Histogram with properties:\n",
      "\n",
      "             Data: [1×1000 double]\n",
      "           Values: [1×1000 double]\n",
      "          NumBins: 1000\n",
      "         BinEdges: [1×1001 double]\n",
      "         BinWidth: 1.8000\n",
      "        BinLimits: [200 2000]\n",
      "    Normalization: 'count'\n",
      "        FaceColor: 'auto'\n",
      "        EdgeColor: [0 0 0]\n",
      "\n",
      "  Use GET to show all properties\n",
      "\n"
     ]
    },
    {
     "data": {
      "image/png": "[encoded data removed]",
      "text/plain": [
       "<IPython.core.display.Image object>"
      ]
     },
     "metadata": {},
     "output_type": "display_data"
    }
   ],
   "source": [
    "n = 1000;\n",
    "a = randi([100,1000],1,n);\n",
    "b = randi([100,1000],1,n);\n",
    "\n",
    "kt = zeros(1,n); % vektor k fuer ggT_tumb\n",
    "ktp = zeros(1,n); %vektor k fuer ggT_tumbpp\n",
    "ke = zeros(1,n); %vektor k fuer ggT_euclid\n",
    "\n",
    "for i = 1:n\n",
    "    [c,kt(i)] = ggT_tumb(a(i),b(i));\n",
    "    %[c,ktp(i)] = ggT_tumbpp(a(i),b(i));\n",
    "    [c,ke(i)] = ggT_euclid(a(i),b(i));\n",
    "end\n",
    "\n",
    "\n",
    "ht = histogram(kt, 'BinWidth', 0.1, 'NumBins', n)\n",
    "title(strcat('ggT_tumb - kmin=', num2str(min(kt)), ' kmax=', num2str(max(kt))));\n",
    "ylabel('k')\n"
   ]
  },
  {
   "cell_type": "code",
   "execution_count": 31,
   "metadata": {},
   "outputs": [
    {
     "name": "stdout",
     "output_type": "stream",
     "text": [
      "\n",
      "ans =\n",
      "\n",
      "        1000\n",
      "\n",
      "\n",
      "ans =\n",
      "\n",
      "   202\n",
      "\n",
      "\n",
      "ans =\n",
      "\n",
      "        1998\n",
      "\n"
     ]
    }
   ],
   "source": [
    "length(kt)\n",
    "min(kt)\n",
    "max(kt)"
   ]
  },
  {
   "cell_type": "code",
   "execution_count": null,
   "metadata": {},
   "outputs": [],
   "source": []
  }
 ],
 "metadata": {
  "kernelspec": {
   "display_name": "Matlab",
   "language": "matlab",
   "name": "matlab"
  },
  "language_info": {
   "codemirror_mode": "octave",
   "file_extension": ".m",
   "help_links": [
    {
     "text": "MetaKernel Magics",
     "url": "https://github.com/calysto/metakernel/blob/master/metakernel/magics/README.md"
    }
   ],
   "mimetype": "text/x-octave",
   "name": "matlab",
   "version": "0.15.0"
  }
 },
 "nbformat": 4,
 "nbformat_minor": 2
}
