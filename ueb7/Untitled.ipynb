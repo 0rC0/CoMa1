{
 "cells": [
  {
   "cell_type": "code",
   "execution_count": 21,
   "metadata": {},
   "outputs": [],
   "source": [
    "%pwd"
   ]
  },
  {
   "cell_type": "code",
   "execution_count": null,
   "metadata": {},
   "outputs": [],
   "source": []
  },
  {
   "cell_type": "code",
   "execution_count": 22,
   "metadata": {},
   "outputs": [],
   "source": [
    "x = -5.5;\n",
    "N = 50;"
   ]
  },
  {
   "cell_type": "code",
   "execution_count": 23,
   "metadata": {},
   "outputs": [
    {
     "name": "stdout",
     "output_type": "stream",
     "text": [
      "\n",
      "y =\n",
      "\n",
      "    0.0041\n",
      "\n"
     ]
    }
   ],
   "source": [
    "% Variabeln um die Zwischendaten zu speichern\n",
    "% es muessen damit 2 Multiplikationen (1 fuer x^i und 1 fuer die Fakultaet / Summanden) gerechnet werden\n",
    "last_fact = 1;\n",
    "last_x = 1;\n",
    "last_f = 1; %ist k = 0 ist f = 1\n",
    "for i=1:N\n",
    "    last_fact = i * last_fact;\n",
    "    last_x = last_x * x;\n",
    "    last_f = last_f + last_x/last_fact;\n",
    "end\n",
    "y = last_f"
   ]
  },
  {
   "cell_type": "code",
   "execution_count": 24,
   "metadata": {},
   "outputs": [
    {
     "name": "stdout",
     "output_type": "stream",
     "text": [
      "\n",
      "ans =\n",
      "\n",
      "    0.0041\n",
      "\n"
     ]
    }
   ],
   "source": [
    "exp(x)"
   ]
  },
  {
   "cell_type": "code",
   "execution_count": 25,
   "metadata": {},
   "outputs": [
    {
     "name": "stdout",
     "output_type": "stream",
     "text": [
      "\n",
      "x =\n",
      "\n",
      "   -5.5000\n",
      "\n",
      "\n",
      "N =\n",
      "\n",
      "    50\n",
      "\n",
      "\n",
      "ans =\n",
      "\n",
      "    0.0041\n",
      "\n"
     ]
    }
   ],
   "source": [
    "x\n",
    "N\n",
    "exp_approx(x,N)"
   ]
  },
  {
   "cell_type": "code",
   "execution_count": 1,
   "metadata": {
    "scrolled": true
   },
   "outputs": [
    {
     "name": "stdout",
     "output_type": "stream",
     "text": [
      "\n",
      "ans =\n",
      "\n",
      "   17.4000\n",
      "\n"
     ]
    }
   ],
   "source": [
    "exp_approx(3,5)"
   ]
  },
  {
   "cell_type": "code",
   "execution_count": 26,
   "metadata": {},
   "outputs": [],
   "source": [
    "%run.m\n",
    "g1 = @(N,x) exp_approx(x,N);\n",
    "g2 = @(N,x) 1/exp_approx(-x,N);\n",
    "g3 = @(N,x,k) exp_approx((abs(x)/k),N).^(sign(x)*k);"
   ]
  },
  {
   "cell_type": "code",
   "execution_count": 27,
   "metadata": {},
   "outputs": [],
   "source": [
    "x = -5.5;\n",
    "k = 11;\n",
    "N = [0:5:50];"
   ]
  },
  {
   "cell_type": "code",
   "execution_count": 28,
   "metadata": {},
   "outputs": [],
   "source": [
    "results = [];\n",
    "e = exp(x);\n",
    "for i=N\n",
    "    err1 = (e - g1(i,x))/e;\n",
    "    err2 = (e - g2(i,x))/e;\n",
    "    err3 = (e - g3(i,x,k))/e;\n",
    "    results = cat(1,results,[i err1 err2 err3]);\n",
    "end"
   ]
  },
  {
   "cell_type": "code",
   "execution_count": 29,
   "metadata": {},
   "outputs": [
    {
     "name": "stdout",
     "output_type": "stream",
     "text": [
      "\n",
      "ans = \n",
      "\n",
      "    N        err1           err2           err3    \n",
      "    __    ___________    ___________    ___________\n",
      "\n",
      "     0        -243.69        -243.69        -243.69\n",
      "     5         5119.2       -0.89065    -0.00015583\n",
      "    10         -580.8      -0.025905     -8.515e-11\n",
      "    15         6.1739    -0.00020021    -2.7591e-15\n",
      "    20      -0.013496    -3.7465e-07    -2.7591e-15\n",
      "    25     8.9425e-06     -2.255e-10    -2.7591e-15\n",
      "    30    -2.2674e-09    -5.3908e-14    -2.7591e-15\n",
      "    35     9.8881e-13    -4.2447e-16    -2.7591e-15\n",
      "    40     7.3115e-13    -4.2447e-16    -2.7591e-15\n",
      "    45     7.3115e-13    -4.2447e-16    -2.7591e-15\n",
      "    50     7.3115e-13    -4.2447e-16    -2.7591e-15\n",
      "\n"
     ]
    }
   ],
   "source": [
    "array2table(results, 'VariableNames',{'N','err1','err2', 'err3'})\n"
   ]
  },
  {
   "cell_type": "code",
   "execution_count": 3,
   "metadata": {},
   "outputs": [
    {
     "name": "stdout",
     "output_type": "stream",
     "text": [
      "\n",
      "e =\n",
      "\n",
      "    0.0041\n",
      "\n"
     ]
    }
   ],
   "source": [
    "x = -5.5;\n",
    "e = exp(x)"
   ]
  },
  {
   "cell_type": "code",
   "execution_count": 6,
   "metadata": {},
   "outputs": [
    {
     "name": "stdout",
     "output_type": "stream",
     "text": [
      "\n",
      "ans =\n",
      "\n",
      "   -0.9959\n",
      "\n"
     ]
    }
   ],
   "source": [
    "exp_approx(x,50)"
   ]
  },
  {
   "cell_type": "code",
   "execution_count": null,
   "metadata": {},
   "outputs": [],
   "source": []
  }
 ],
 "metadata": {
  "kernelspec": {
   "display_name": "Matlab",
   "language": "matlab",
   "name": "matlab"
  },
  "language_info": {
   "codemirror_mode": "octave",
   "file_extension": ".m",
   "help_links": [
    {
     "text": "MetaKernel Magics",
     "url": "https://github.com/calysto/metakernel/blob/master/metakernel/magics/README.md"
    }
   ],
   "mimetype": "text/x-octave",
   "name": "matlab",
   "version": "0.15.0"
  }
 },
 "nbformat": 4,
 "nbformat_minor": 2
}
