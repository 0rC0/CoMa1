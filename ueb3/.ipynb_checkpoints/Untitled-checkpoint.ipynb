{
 "cells": [
  {
   "cell_type": "code",
   "execution_count": null,
   "metadata": {},
   "outputs": [],
   "source": [
    "format long"
   ]
  },
  {
   "cell_type": "code",
   "execution_count": null,
   "metadata": {},
   "outputs": [],
   "source": [
    "%function y = runden(x)"
   ]
  },
  {
   "cell_type": "code",
   "execution_count": null,
   "metadata": {},
   "outputs": [],
   "source": [
    "round(1.23465,2)\n",
    "rd = round"
   ]
  },
  {
   "cell_type": "code",
   "execution_count": null,
   "metadata": {},
   "outputs": [],
   "source": [
    "% function out = add(x, y, rd)\n",
    "% x, y: Zahlen zu addieren\n",
    "% rd = rudenfunktion\n",
    "L = 2\n",
    "out = rd(rd(x,L) + rd(y,L),L)"
   ]
  },
  {
   "cell_type": "code",
   "execution_count": null,
   "metadata": {},
   "outputs": [],
   "source": [
    "rdname = 'round'\n",
    "rd = str2func(rdname)"
   ]
  },
  {
   "cell_type": "code",
   "execution_count": null,
   "metadata": {},
   "outputs": [],
   "source": [
    "rd(2.1111,2)"
   ]
  },
  {
   "cell_type": "code",
   "execution_count": null,
   "metadata": {},
   "outputs": [],
   "source": [
    "a = 2.111;\n",
    "b = 3.111111;\n",
    "rdname = 'round';\n",
    "c = add(add(mult(a,a,rdname),mult(b,b,rdname),rdname),2*mult(a,b,rdname),rdname);"
   ]
  },
  {
   "cell_type": "code",
   "execution_count": null,
   "metadata": {},
   "outputs": [],
   "source": [
    "c"
   ]
  },
  {
   "cell_type": "code",
   "execution_count": 11,
   "metadata": {},
   "outputs": [
    {
     "name": "stderr",
     "output_type": "stream",
     "text": [
      "\u001b[0;31mError: \"format\" was previously used as a variable, conflicting with its use here as the name of a function or command.\n",
      "See \"How MATLAB Recognizes Command Syntax\" in the MATLAB documentation for details.\n",
      "\n",
      "\u001b[0m"
     ]
    }
   ],
   "source": [
    "format long\n",
    "a = 12.34567891"
   ]
  },
  {
   "cell_type": "code",
   "execution_count": 12,
   "metadata": {},
   "outputs": [
    {
     "name": "stdout",
     "output_type": "stream",
     "text": [
      "\n",
      "format =\n",
      "\n",
      "%.1f\n",
      "\n"
     ]
    }
   ],
   "source": [
    "format=strcat('%.',num2str(1),'f')"
   ]
  },
  {
   "cell_type": "code",
   "execution_count": 13,
   "metadata": {},
   "outputs": [
    {
     "name": "stdout",
     "output_type": "stream",
     "text": [
      "\n",
      "ans =\n",
      "\n",
      "12.3\n",
      "\n"
     ]
    }
   ],
   "source": [
    "sprintf(format, a)"
   ]
  },
  {
   "cell_type": "code",
   "execution_count": 14,
   "metadata": {},
   "outputs": [
    {
     "name": "stdout",
     "output_type": "stream",
     "text": [
      "\n",
      "ans =\n",
      "\n",
      "12.3457\n",
      "\n"
     ]
    }
   ],
   "source": [
    "runden(a, 4)"
   ]
  },
  {
   "cell_type": "code",
   "execution_count": 17,
   "metadata": {},
   "outputs": [
    {
     "name": "stdout",
     "output_type": "stream",
     "text": [
      "\n",
      "a =\n",
      "\n",
      "   0.012345000000000\n",
      "\n",
      "\n",
      "b =\n",
      "\n",
      "  -0.012340000000000\n",
      "\n"
     ]
    },
    {
     "name": "stderr",
     "output_type": "stream",
     "text": [
      "\u001b[0;31mMatrix dimensions must agree.\n",
      "\n",
      "Error in add (line 6)\n",
      "z = rd(rd(x,L) + rd(y,L),L);\n",
      "\n",
      "Error in binomA (line 5)\n",
      "z = mult(add(x,y,rdname),add(x,y,rdname),rdname);\n",
      "\n",
      "\u001b[0m"
     ]
    }
   ],
   "source": [
    "a = 0.012345\n",
    "b = -0.012340\n",
    "binomA(a,b,'runden')"
   ]
  },
  {
   "cell_type": "code",
   "execution_count": 2,
   "metadata": {},
   "outputs": [
    {
     "name": "stdout",
     "output_type": "stream",
     "text": [
      "\n",
      "ans =\n",
      "\n",
      "98.0092.0098.0098.00\n",
      "\n"
     ]
    }
   ],
   "source": [
    "add(1.1,1.12,'runden')"
   ]
  },
  {
   "cell_type": "code",
   "execution_count": 20,
   "metadata": {},
   "outputs": [
    {
     "name": "stdout",
     "output_type": "stream",
     "text": [
      "\n",
      "ans =\n",
      "\n",
      "   1.220000000000000\n",
      "\n"
     ]
    }
   ],
   "source": [
    "round(1.2222,2)"
   ]
  },
  {
   "cell_type": "code",
   "execution_count": null,
   "metadata": {},
   "outputs": [],
   "source": []
  }
 ],
 "metadata": {
  "kernelspec": {
   "display_name": "Matlab",
   "language": "matlab",
   "name": "matlab"
  },
  "language_info": {
   "codemirror_mode": "octave",
   "file_extension": ".m",
   "help_links": [
    {
     "text": "MetaKernel Magics",
     "url": "https://github.com/calysto/metakernel/blob/master/metakernel/magics/README.md"
    }
   ],
   "mimetype": "text/x-octave",
   "name": "matlab",
   "version": "0.15.0"
  }
 },
 "nbformat": 4,
 "nbformat_minor": 2
}
