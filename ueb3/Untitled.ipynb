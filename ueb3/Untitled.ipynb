{
 "cells": [
  {
   "cell_type": "code",
   "execution_count": 3,
   "metadata": {},
   "outputs": [],
   "source": [
    "format long"
   ]
  },
  {
   "cell_type": "code",
   "execution_count": 4,
   "metadata": {},
   "outputs": [],
   "source": [
    "%function y = runden(x)"
   ]
  },
  {
   "cell_type": "code",
   "execution_count": 6,
   "metadata": {},
   "outputs": [
    {
     "name": "stdout",
     "output_type": "stream",
     "text": [
      "\n",
      "ans =\n",
      "\n",
      "   1.230000000000000\n",
      "\n"
     ]
    },
    {
     "name": "stderr",
     "output_type": "stream",
     "text": [
      "\u001b[0;31mError using round\n",
      "Not enough input arguments.\n",
      "\n",
      "\u001b[0m"
     ]
    }
   ],
   "source": [
    "round(1.23465,2)\n",
    "rd = round"
   ]
  },
  {
   "cell_type": "code",
   "execution_count": null,
   "metadata": {},
   "outputs": [],
   "source": [
    "% function out = add(x, y, rd)\n",
    "% x, y: Zahlen zu addieren\n",
    "% rd = rudenfunktion\n",
    "L = 2\n",
    "out = rd(rd(x,L) + rd(y,L),L)"
   ]
  },
  {
   "cell_type": "code",
   "execution_count": 3,
   "metadata": {},
   "outputs": [
    {
     "name": "stdout",
     "output_type": "stream",
     "text": [
      "\n",
      "rdname =\n",
      "\n",
      "round\n",
      "\n",
      "\n",
      "rd =\n",
      "\n",
      "  function_handle with value:\n",
      "\n",
      "    @round\n",
      "\n"
     ]
    }
   ],
   "source": [
    "rdname = 'round'\n",
    "rd = str2func(rdname)"
   ]
  },
  {
   "cell_type": "code",
   "execution_count": 4,
   "metadata": {},
   "outputs": [
    {
     "name": "stdout",
     "output_type": "stream",
     "text": [
      "\n",
      "ans =\n",
      "\n",
      "    2.1100\n",
      "\n"
     ]
    }
   ],
   "source": [
    "rd(2.1111,2)"
   ]
  },
  {
   "cell_type": "code",
   "execution_count": 2,
   "metadata": {},
   "outputs": [
    {
     "name": "stdout",
     "output_type": "stream",
     "text": [
      "\n",
      "a =\n",
      "\n",
      "    2.1110\n",
      "\n",
      "\n",
      "b =\n",
      "\n",
      "    3.1111\n",
      "\n",
      "\n",
      "rdname =\n",
      "\n",
      "round\n",
      "\n"
     ]
    },
    {
     "name": "stderr",
     "output_type": "stream",
     "text": [
      "\u001b[0;31mNot enough input arguments.\n",
      "\n",
      "Error in add (line 5)\n",
      "rd = str2func(rdname);\n",
      "\n",
      "\u001b[0m"
     ]
    }
   ],
   "source": [
    "a = 2.111\n",
    "b = 3.111111\n",
    "rdname = 'round'\n",
    "c = add(add(mult(a,a,rdname),mult(b,b,rdname)),2*mult(a,b,rdname));"
   ]
  },
  {
   "cell_type": "code",
   "execution_count": null,
   "metadata": {},
   "outputs": [],
   "source": []
  }
 ],
 "metadata": {
  "kernelspec": {
   "display_name": "Matlab",
   "language": "matlab",
   "name": "matlab"
  },
  "language_info": {
   "codemirror_mode": "octave",
   "file_extension": ".m",
   "help_links": [
    {
     "text": "MetaKernel Magics",
     "url": "https://github.com/calysto/metakernel/blob/master/metakernel/magics/README.md"
    }
   ],
   "mimetype": "text/x-octave",
   "name": "matlab",
   "version": "0.15.0"
  }
 },
 "nbformat": 4,
 "nbformat_minor": 2
}
