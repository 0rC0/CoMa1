{
 "cells": [
  {
   "cell_type": "code",
   "execution_count": 3,
   "metadata": {},
   "outputs": [
    {
     "name": "stdout",
     "output_type": "stream",
     "text": [
      "\n",
      "n =\n",
      "\n",
      "   156\n",
      "\n",
      "\n",
      "c =\n",
      "\n",
      "    10\n",
      "\n"
     ]
    }
   ],
   "source": [
    "n = 156\n",
    "c = 10"
   ]
  },
  {
   "cell_type": "code",
   "execution_count": 14,
   "metadata": {
    "scrolled": true
   },
   "outputs": [
    {
     "name": "stdout",
     "output_type": "stream",
     "text": [
      "\n",
      "bin =\n",
      "\n",
      "     1\n",
      "     0\n",
      "     0\n",
      "     1\n",
      "     1\n",
      "     1\n",
      "     0\n",
      "     0\n",
      "\n",
      "\n",
      "l =\n",
      "\n",
      "     8\n",
      "\n",
      "\n",
      "z =\n",
      "\n",
      "     0\n",
      "     0\n",
      "\n",
      "\n",
      "y =\n",
      "\n",
      "     0\n",
      "     0\n",
      "     1\n",
      "     0\n",
      "     0\n",
      "     1\n",
      "     1\n",
      "     1\n",
      "     0\n",
      "     0\n",
      "\n",
      "\n",
      "y =\n",
      "\n",
      "     0\n",
      "     0\n",
      "     1\n",
      "     0\n",
      "     0\n",
      "     1\n",
      "     1\n",
      "     1\n",
      "     0\n",
      "     0\n",
      "\n"
     ]
    }
   ],
   "source": [
    "n = floor(n); %falls nich eine Naturliche Zahl eingegeben wird\n",
    "bin = [];\n",
    "tmp = n;\n",
    "output = [];\n",
    "%berechnen n in base 2\n",
    "while tmp > 0\n",
    "    rem = mod(tmp, 2);\n",
    "    bin = [rem;bin];\n",
    "    tmp = floor(tmp/2);\n",
    "end\n",
    "bin\n",
    "%Vektor laenge c erzeugen\n",
    "l = length(bin)\n",
    "if l >= c\n",
    "    y = bin((end-c+1):end);\n",
    "else\n",
    "    z = zeros(c-l,1);\n",
    "    y = [z;bin];\n",
    "end\n",
    "y"
   ]
  },
  {
   "cell_type": "code",
   "execution_count": 7,
   "metadata": {},
   "outputs": [
    {
     "name": "stdout",
     "output_type": "stream",
     "text": [
      "\n",
      "ans =\n",
      "\n",
      "     0\n",
      "     0\n",
      "     1\n",
      "     0\n",
      "     0\n",
      "     1\n",
      "     1\n",
      "     1\n",
      "     0\n",
      "     0\n",
      "\n"
     ]
    }
   ],
   "source": [
    "ntobasetwo(156,10)"
   ]
  },
  {
   "cell_type": "code",
   "execution_count": null,
   "metadata": {},
   "outputs": [],
   "source": []
  },
  {
   "cell_type": "code",
   "execution_count": 4,
   "metadata": {},
   "outputs": [
    {
     "name": "stdout",
     "output_type": "stream",
     "text": [
      "\n",
      "i1 =\n",
      "\n",
      "     0     0     1     1\n",
      "\n",
      "\n",
      "i2 =\n",
      "\n",
      "     1     0     1     1\n",
      "\n"
     ]
    }
   ],
   "source": [
    "i1 = [0 0 1 1]\n",
    "i2 = [1 0 1 1]\n",
    "n = i2;"
   ]
  },
  {
   "cell_type": "code",
   "execution_count": 20,
   "metadata": {},
   "outputs": [],
   "source": [
    "%Zweierkomplement: umklappen und 1 addieren\n",
    "\n",
    "tmp = n;\n",
    "\n",
    "%umklappen\n",
    "for i = 1:length(tmp)\n",
    "    if tmp(i) == 1\n",
    "        tmp(i) = 0;\n",
    "    else\n",
    "        tmp(i) = 1;\n",
    "    end\n",
    "end\n",
    "\n",
    "%1 addieren\n",
    "for i = length(tmp):-1:1\n",
    "    if tmp(i) == 1\n",
    "        tmp(i) = 0;\n",
    "    else\n",
    "        tmp(i) = 1;\n",
    "        break\n",
    "    end\n",
    "end"
   ]
  },
  {
   "cell_type": "code",
   "execution_count": null,
   "metadata": {},
   "outputs": [
    {
     "name": "stdout",
     "output_type": "stream",
     "text": [
      "\n",
      "ans =\n",
      "\n",
      "     0     1     0     1\n",
      "\n"
     ]
    }
   ],
   "source": [
    "complement(n)"
   ]
  },
  {
   "cell_type": "code",
   "execution_count": 6,
   "metadata": {},
   "outputs": [
    {
     "name": "stdout",
     "output_type": "stream",
     "text": [
      "\n",
      "tmp =\n",
      "\n",
      "     0     0     1     1\n",
      "\n"
     ]
    }
   ],
   "source": [
    "tmp = i1"
   ]
  },
  {
   "cell_type": "code",
   "execution_count": null,
   "metadata": {},
   "outputs": [
    {
     "name": "stdout",
     "output_type": "stream",
     "text": [
      "\n",
      "z =\n",
      "\n",
      "    -1\n",
      "\n"
     ]
    }
   ],
   "source": [
    "z = -1"
   ]
  },
  {
   "cell_type": "code",
   "execution_count": 4,
   "metadata": {},
   "outputs": [
    {
     "name": "stdout",
     "output_type": "stream",
     "text": [
      "\n",
      "z =\n",
      "\n",
      "  -120\n",
      "\n",
      "\n",
      "c =\n",
      "\n",
      "     8\n",
      "\n"
     ]
    }
   ],
   "source": [
    "z = -120\n",
    "c = 8"
   ]
  },
  {
   "cell_type": "code",
   "execution_count": 10,
   "metadata": {},
   "outputs": [
    {
     "name": "stdout",
     "output_type": "stream",
     "text": [
      "\n",
      "y =\n",
      "\n",
      "     1\n",
      "     0\n",
      "     0\n",
      "     0\n",
      "     1\n",
      "     0\n",
      "     0\n",
      "     0\n",
      "\n"
     ]
    }
   ],
   "source": [
    "if z < 0\n",
    "    y = complement(ntobasetwo(abs(z),c))\n",
    "else\n",
    "    y = ntobasetwo(z,c)\n",
    "end"
   ]
  },
  {
   "cell_type": "code",
   "execution_count": 11,
   "metadata": {},
   "outputs": [
    {
     "name": "stdout",
     "output_type": "stream",
     "text": [
      "\n",
      "y =\n",
      "\n",
      "     1\n",
      "     0\n",
      "     0\n",
      "     0\n",
      "     1\n",
      "     0\n",
      "     0\n",
      "     0\n",
      "\n",
      "\n",
      "ans =\n",
      "\n",
      "     1\n",
      "     0\n",
      "     0\n",
      "     0\n",
      "     1\n",
      "     0\n",
      "     0\n",
      "     0\n",
      "\n"
     ]
    }
   ],
   "source": [
    "ztobasetwo(z,c)"
   ]
  },
  {
   "cell_type": "code",
   "execution_count": 9,
   "metadata": {},
   "outputs": [
    {
     "name": "stdout",
     "output_type": "stream",
     "text": [
      "\n",
      "ans =\n",
      "\n",
      "     1\n",
      "     1\n",
      "     0\n",
      "     1\n",
      "     1\n",
      "     0\n",
      "     0\n",
      "     1\n",
      "     0\n",
      "     0\n",
      "\n"
     ]
    }
   ],
   "source": [
    "complement(ntobasetwo(156,10))"
   ]
  },
  {
   "cell_type": "code",
   "execution_count": null,
   "metadata": {},
   "outputs": [],
   "source": []
  }
 ],
 "metadata": {
  "kernelspec": {
   "display_name": "Matlab",
   "language": "matlab",
   "name": "matlab"
  },
  "language_info": {
   "codemirror_mode": "octave",
   "file_extension": ".m",
   "help_links": [
    {
     "text": "MetaKernel Magics",
     "url": "https://github.com/calysto/metakernel/blob/master/metakernel/magics/README.md"
    }
   ],
   "mimetype": "text/x-octave",
   "name": "matlab",
   "version": "0.15.0"
  }
 },
 "nbformat": 4,
 "nbformat_minor": 2
}
